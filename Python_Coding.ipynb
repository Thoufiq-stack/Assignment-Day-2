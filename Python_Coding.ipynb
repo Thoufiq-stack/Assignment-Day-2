{
  "nbformat": 4,
  "nbformat_minor": 0,
  "metadata": {
    "colab": {
      "name": "Python Coding",
      "provenance": []
    },
    "kernelspec": {
      "name": "python3",
      "display_name": "Python 3"
    },
    "language_info": {
      "name": "python"
    }
  },
  "cells": [
    {
      "cell_type": "code",
      "metadata": {
        "id": "cS7eNNFewXgc"
      },
      "source": [
        "#Creating two list with some brand names\n",
        "languages = [\"Python\",\"Java\",\"Javascript\",\"SQL\",\"GoLang\"]\n",
        "other_languages = [\"Python\",\"C++\",\"Javascript\",\"C\",\"SQL\"]\n",
        "common_languages=[]\n"
      ],
      "execution_count": 22,
      "outputs": []
    },
    {
      "cell_type": "code",
      "metadata": {
        "colab": {
          "base_uri": "https://localhost:8080/"
        },
        "id": "OhOPlsfF52QX",
        "outputId": "92ea7b6d-852f-4d09-d35c-c4e1304b759f"
      },
      "source": [
        "#Overlapping lists\n",
        "\n",
        "for x in languages:\n",
        "  if x in other_languages:\n",
        "    if x in common_languages:\n",
        "      print(\"Duplicate Languages\",x)\n",
        "    else:\n",
        "      common_languages.append(x)\n",
        "    "
      ],
      "execution_count": 24,
      "outputs": [
        {
          "output_type": "stream",
          "text": [
            "Duplicate Languages Python\n",
            "Duplicate Languages Javascript\n",
            "Duplicate Languages SQL\n"
          ],
          "name": "stdout"
        }
      ]
    },
    {
      "cell_type": "code",
      "metadata": {
        "colab": {
          "base_uri": "https://localhost:8080/"
        },
        "id": "Ytv9lNg_2yJ9",
        "outputId": "0dbab57f-8186-4340-8170-a47a892eda64"
      },
      "source": [
        "#Print even numbers starting with 20 and ending with 40\n",
        "for i in range(20,40,2):\n",
        "  print(i,end=\" \")"
      ],
      "execution_count": 3,
      "outputs": [
        {
          "output_type": "stream",
          "text": [
            "20 22 24 26 28 30 32 34 36 38 "
          ],
          "name": "stdout"
        }
      ]
    }
  ]
}